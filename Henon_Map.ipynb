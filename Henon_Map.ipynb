{
 "cells": [
  {
   "cell_type": "code",
   "execution_count": 70,
   "id": "af84f4bb-bfd2-4e52-9b0a-37d5aa6d8e2d",
   "metadata": {},
   "outputs": [],
   "source": [
    "import numpy as np\n",
    "import matplotlib.pyplot as plt\n",
    "import scipy"
   ]
  },
  {
   "cell_type": "code",
   "execution_count": 2,
   "id": "4799efa2-ec20-4eb6-885e-a69242a52e80",
   "metadata": {},
   "outputs": [],
   "source": [
    "def Henon_Map(y, a, b):\n",
    "    xn, yn = y\n",
    "    return [1 - a*xn**2 + yn, b*xn]"
   ]
  },
  {
   "cell_type": "code",
   "execution_count": 3,
   "id": "792c2a91-4f5c-4f46-8f9c-eb3f38d12705",
   "metadata": {},
   "outputs": [],
   "source": [
    "# Hénon map parameters (chaotic regime)\n",
    "a0 = 1.4 \n",
    "b = 0.3\n",
    "N = 1000\n",
    "epsilon = 0.05\n",
    "K = 0.5"
   ]
  },
  {
   "cell_type": "code",
   "execution_count": 5,
   "id": "b85d0480-f213-42b9-a34c-792c0fa7c34b",
   "metadata": {},
   "outputs": [],
   "source": [
    "xs = (-0.7 + np.sqrt(0.7**2 + 4*1.4))/(2*1.4)\n",
    "ys = 0.3*xs"
   ]
  },
  {
   "cell_type": "code",
   "execution_count": 6,
   "id": "796d829f-7a14-475b-9383-67de4105d722",
   "metadata": {},
   "outputs": [
    {
     "data": {
      "text/plain": [
       "(0.6313544770895047, 0.1894063431268514)"
      ]
     },
     "execution_count": 6,
     "metadata": {},
     "output_type": "execute_result"
    }
   ],
   "source": [
    "xs, ys"
   ]
  },
  {
   "cell_type": "code",
   "execution_count": 7,
   "id": "15393810-0c67-42f6-801c-7b473d7e71be",
   "metadata": {},
   "outputs": [],
   "source": [
    "xi, yi = xs, ys\n",
    "for i in range(100):\n",
    "    xi, yi = Henon_Map([xi, yi], a0, b)"
   ]
  },
  {
   "cell_type": "code",
   "execution_count": 8,
   "id": "33b8ffa0-bf33-45fe-8680-5595ed4c4518",
   "metadata": {},
   "outputs": [
    {
     "data": {
      "text/plain": [
       "(0.6313544770895048, 0.18940634312685142)"
      ]
     },
     "execution_count": 8,
     "metadata": {},
     "output_type": "execute_result"
    }
   ],
   "source": [
    "xi, yi"
   ]
  },
  {
   "cell_type": "code",
   "execution_count": 9,
   "id": "153d3469-d866-4f13-9b89-2485a586fb4c",
   "metadata": {},
   "outputs": [],
   "source": [
    "J = np.array( [[-2 * a0 * xs, 1], [b, 0] ])\n",
    "df_da = np.array([[-xs**2], [0]])\n",
    "B = df_da"
   ]
  },
  {
   "cell_type": "code",
   "execution_count": 10,
   "id": "b386d38e-12e5-4f73-a02e-7d65fa9a18c5",
   "metadata": {},
   "outputs": [],
   "source": [
    "eigvals, eigvecs = np.linalg.eig(J)"
   ]
  },
  {
   "cell_type": "code",
   "execution_count": 11,
   "id": "68df2296-7149-4c21-b03b-3362538b84fa",
   "metadata": {},
   "outputs": [
    {
     "data": {
      "text/plain": [
       "(array([-1.92373886,  0.15594632]),\n",
       " array([[-0.98805776, -0.46122777],\n",
       "        [ 0.15408397, -0.88728178]]))"
      ]
     },
     "execution_count": 11,
     "metadata": {},
     "output_type": "execute_result"
    }
   ],
   "source": [
    "eigvals, eigvecs"
   ]
  },
  {
   "cell_type": "code",
   "execution_count": 29,
   "id": "95f895fb-2356-484e-a530-90a288a256e5",
   "metadata": {},
   "outputs": [],
   "source": [
    "vs = np.expand_dims(eigvecs[:,0], -1)\n",
    "vu = np.expand_dims(eigvecs[:,1], -1)"
   ]
  },
  {
   "cell_type": "code",
   "execution_count": 30,
   "id": "c1aa01fc-3512-4050-a66e-95557f0d215c",
   "metadata": {},
   "outputs": [
    {
     "data": {
      "text/plain": [
       "((2, 1), (2, 1))"
      ]
     },
     "execution_count": 30,
     "metadata": {},
     "output_type": "execute_result"
    }
   ],
   "source": [
    "np.shape(B), np.shape(vs)"
   ]
  },
  {
   "cell_type": "code",
   "execution_count": 31,
   "id": "c415fae3-062e-41a1-91e2-26a3a112c41c",
   "metadata": {},
   "outputs": [
    {
     "data": {
      "text/plain": [
       "array([[0.3938482],\n",
       "       [0.       ]])"
      ]
     },
     "execution_count": 31,
     "metadata": {},
     "output_type": "execute_result"
    }
   ],
   "source": [
    "B*vs"
   ]
  },
  {
   "cell_type": "code",
   "execution_count": 32,
   "id": "736cb216-2955-4b57-89a8-e2d7bbab5312",
   "metadata": {},
   "outputs": [
    {
     "data": {
      "text/plain": [
       "array([0.3938482])"
      ]
     },
     "execution_count": 32,
     "metadata": {},
     "output_type": "execute_result"
    }
   ],
   "source": [
    "np.dot(vs.T, B)[0]"
   ]
  },
  {
   "cell_type": "code",
   "execution_count": 60,
   "id": "625b270c-ac3b-436f-8920-c1c2cb7ff927",
   "metadata": {},
   "outputs": [],
   "source": [
    "dzn = np.ones([2,1])\n",
    "s = 0.05"
   ]
  },
  {
   "cell_type": "code",
   "execution_count": 61,
   "id": "6e5d2de5-2b34-4bf2-8289-c420e2f87303",
   "metadata": {},
   "outputs": [
    {
     "data": {
      "text/plain": [
       "((2, 1), (2, 1), (1, 2))"
      ]
     },
     "execution_count": 61,
     "metadata": {},
     "output_type": "execute_result"
    }
   ],
   "source": [
    "np.shape(np.dot(J, dzn)), np.shape(vs), np.shape(vs.T)"
   ]
  },
  {
   "cell_type": "code",
   "execution_count": 62,
   "id": "ed837956-571f-40d1-b741-57fdeadc1515",
   "metadata": {},
   "outputs": [],
   "source": [
    "def control(dzn, J, vs, s):\n",
    "    c = np.dot(vs.T, s*vs - np.dot(J, dzn)).item()/np.dot(vs.T, B).item()\n",
    "    return c"
   ]
  },
  {
   "cell_type": "code",
   "execution_count": 66,
   "id": "125b41de-3367-4999-8d8d-cf10c0790f0c",
   "metadata": {},
   "outputs": [],
   "source": [
    "x = np.zeros(N)\n",
    "y = np.zeros(N)\n",
    "a = np.ones(N) * a0\n",
    "\n",
    "N = 2000\n",
    "for n in range(N-1):\n",
    "    dzn = np.zeros([2,1])\n",
    "    dzn[0] = x[n] - xs\n",
    "    dzn[1] = y[n] - ys\n",
    "    dist = np.sqrt( (x[n] - xs)**2 + (y[n] - ys)**2 )\n",
    "    if dist < epsilon:\n",
    "        c = control(dzn, J, vs, s)\n",
    "        a[n + 1] = a0 + c\n",
    "    \n",
    "    x[n + 1] = 1 - a[n + 1] * x[n] ** 2 + y[n]\n",
    "    y[n + 1] = b * x[n]    "
   ]
  },
  {
   "cell_type": "code",
   "execution_count": 68,
   "id": "db54d69d-59c1-4407-80f5-12c363500fc0",
   "metadata": {},
   "outputs": [
    {
     "data": {
      "text/plain": [
       "[<matplotlib.lines.Line2D at 0x25e645f4a10>]"
      ]
     },
     "execution_count": 68,
     "metadata": {},
     "output_type": "execute_result"
    },
    {
     "data": {
      "image/png": "[encoded data removed]",
      "text/plain": [
       "<Figure size 640x480 with 1 Axes>"
      ]
     },
     "metadata": {},
     "output_type": "display_data"
    }
   ],
   "source": [
    "plt.plot(x)\n",
    "plt.plot(y)"
   ]
  },
  {
   "cell_type": "code",
   "execution_count": 69,
   "id": "0b56c63c-dbe1-4ef3-91c2-014d44600a09",
   "metadata": {},
   "outputs": [
    {
     "data": {
      "text/plain": [
       "[<matplotlib.lines.Line2D at 0x25e6462f140>]"
      ]
     },
     "execution_count": 69,
     "metadata": {},
     "output_type": "execute_result"
    },
    {
     "data": {
      "image/png": "[encoded data removed]",
      "text/plain": [
       "<Figure size 640x480 with 1 Axes>"
      ]
     },
     "metadata": {},
     "output_type": "display_data"
    }
   ],
   "source": [
    "plt.plot(a)"
   ]
  },
  {
   "cell_type": "code",
   "execution_count": null,
   "id": "57311904-fdd5-4a31-872d-87c880bec9dc",
   "metadata": {},
   "outputs": [],
   "source": []
  }
 ],
 "metadata": {
  "kernelspec": {
   "display_name": "Python 3 (ipykernel)",
   "language": "python",
   "name": "python3"
  },
  "language_info": {
   "codemirror_mode": {
    "name": "ipython",
    "version": 3
   },
   "file_extension": ".py",
   "mimetype": "text/x-python",
   "name": "python",
   "nbconvert_exporter": "python",
   "pygments_lexer": "ipython3",
   "version": "3.12.7"
  }
 },
 "nbformat": 4,
 "nbformat_minor": 5
}
